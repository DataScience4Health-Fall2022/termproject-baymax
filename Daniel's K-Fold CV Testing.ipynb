{
 "cells": [
  {
   "cell_type": "code",
   "execution_count": 2,
   "metadata": {},
   "outputs": [],
   "source": [
    "#Trying some cross-validation metrics... "
   ]
  },
  {
   "cell_type": "code",
   "execution_count": 3,
   "metadata": {},
   "outputs": [],
   "source": [
    "# evaluate a logistic regression model using k-fold cross-validation\n",
    "from numpy import mean\n",
    "from numpy import std\n",
    "from sklearn.datasets import make_classification\n",
    "from sklearn.model_selection import KFold\n",
    "from sklearn.model_selection import cross_val_score\n",
    "from sklearn.linear_model import LogisticRegression\n"
   ]
  },
  {
   "cell_type": "code",
   "execution_count": 11,
   "metadata": {},
   "outputs": [],
   "source": [
    "# create dataset\n",
    "X, y = make_classification(n_samples=100, n_features=20, n_informative=15, n_redundant=5, random_state=1)\n",
    "# prepare the cross-validation procedure\n",
    "cv = KFold(n_splits=10, random_state=1, shuffle=True)\n",
    "# create model\n",
    "model = LogisticRegression()\n",
    "# evaluate model\n",
    "scores = cross_validate(model, X, y, scoring=['accuracy','recall', 'precision'], cv=cv, n_jobs=-1)\n",
    "# report performance\n",
    "#print('Accuracy: %.3f (%.3f)' % (mean(scores), std(scores)))"
   ]
  },
  {
   "cell_type": "code",
   "execution_count": null,
   "metadata": {},
   "outputs": [],
   "source": [
    "#Now actually printing out the results of the 10-fold cross-validation? "
   ]
  },
  {
   "cell_type": "code",
   "execution_count": 14,
   "metadata": {},
   "outputs": [
    {
     "name": "stdout",
     "output_type": "stream",
     "text": [
      "<class 'dict'>\n",
      "{'fit_time': array([0.01814604, 0.01775622, 0.0159409 , 0.02928805, 0.02289796,\n",
      "       0.01792288, 0.02090287, 0.01887512, 0.01576614, 0.01770926]), 'score_time': array([0.00452518, 0.00437403, 0.00882888, 0.00493693, 0.00406814,\n",
      "       0.004107  , 0.00371599, 0.00397182, 0.00382304, 0.00454402]), 'test_accuracy': array([0.9, 1. , 0.9, 0.9, 0.7, 0.7, 0.9, 1. , 0.9, 0.6]), 'test_recall': array([0.83333333, 1.        , 0.75      , 0.8       , 1.        ,\n",
      "       1.        , 0.83333333, 1.        , 0.85714286, 0.8       ]), 'test_precision': array([1.        , 1.        , 1.        , 1.        , 0.57142857,\n",
      "       0.57142857, 1.        , 1.        , 1.        , 0.57142857])}\n"
     ]
    }
   ],
   "source": [
    "print(type(scores))\n",
    "print(scores)"
   ]
  },
  {
   "cell_type": "code",
   "execution_count": 23,
   "metadata": {},
   "outputs": [
    {
     "name": "stdout",
     "output_type": "stream",
     "text": [
      "Accuracy: 0.85 +/- 0.1284523257866513\n"
     ]
    }
   ],
   "source": [
    "print('Accuracy: ' + str(mean(scores['test_accuracy'])) + ' +/- ' + str(std(scores['test_accuracy'])))"
   ]
  },
  {
   "cell_type": "code",
   "execution_count": 24,
   "metadata": {},
   "outputs": [
    {
     "name": "stdout",
     "output_type": "stream",
     "text": [
      "Sensitivity: 0.8873809523809525 +/- 0.0957252422063525\n"
     ]
    }
   ],
   "source": [
    "print('Sensitivity: ' + str(mean(scores['test_recall'])) + ' +/- ' + str(std(scores['test_recall'])))"
   ]
  }
 ],
 "metadata": {
  "kernelspec": {
   "display_name": "Python 3",
   "language": "python",
   "name": "python3"
  },
  "language_info": {
   "codemirror_mode": {
    "name": "ipython",
    "version": 3
   },
   "file_extension": ".py",
   "mimetype": "text/x-python",
   "name": "python",
   "nbconvert_exporter": "python",
   "pygments_lexer": "ipython3",
   "version": "3.8.5"
  }
 },
 "nbformat": 4,
 "nbformat_minor": 4
}
