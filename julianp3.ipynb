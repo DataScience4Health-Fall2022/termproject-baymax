{
 "cells": [
  {
   "cell_type": "code",
   "execution_count": 4,
   "metadata": {},
   "outputs": [],
   "source": [
    "# Group 5\n",
    "# Neel Gandhi, Sunishka Jain, Daniel Shen, Julian Wu\n",
    "\n",
    "# Imports\n",
    "import pandas as pd\n",
    "import glob\n",
    "import matplotlib.pyplot as plt\n",
    "import seaborn as sns"
   ]
  },
  {
   "cell_type": "code",
   "execution_count": 5,
   "metadata": {},
   "outputs": [
    {
     "name": "stderr",
     "output_type": "stream",
     "text": [
      "C:\\Users\\julianxywu\\AppData\\Local\\Temp\\ipykernel_18840\\3830987800.py:4: DtypeWarning: Columns (0,38,40) have mixed types. Specify dtype option on import or set low_memory=False.\n",
      "  data = pd.read_csv(file)\n"
     ]
    }
   ],
   "source": [
    "# Import data\n",
    "\n",
    "file = './clinvar_conflicting.csv'\n",
    "data = pd.read_csv(file)"
   ]
  },
  {
   "cell_type": "code",
   "execution_count": 6,
   "metadata": {},
   "outputs": [
    {
     "name": "stdout",
     "output_type": "stream",
     "text": [
      "{'Hereditary_cancer-predisposing_syndrome': 18367, 'Hereditary_breast_and_ovarian_cancer_syndrome': 2058, 'Familial_cancer_of_breast': 1977, 'Dilated_cardiomyopathy_1G': 1951, 'Limb-girdle_muscular_dystrophy,_type_2J': 1920, 'Cardiovascular_phenotype': 1853, 'Hypertrophic_cardiomyopathy': 1556, 'Ataxia-telangiectasia_syndrome': 1510, 'Hereditary_nonpolyposis_colon_cancer': 1333, 'Dilated_Cardiomyopathy,_Dominant': 1287, 'Familial_hypercholesterolemia': 1082, 'Breast-ovarian_cancer,_familial_2': 1082, 'Familial_adenomatous_polyposis_1': 975, 'Limb-Girdle_Muscular_Dystrophy,_Recessive': 900, 'Lynch_syndrome': 838}\n"
     ]
    }
   ],
   "source": [
    "# Column 9 - CLNDN\n",
    "\n",
    "from operator import itemgetter\n",
    "\n",
    "col9 = data[\"CLNDN\"]\n",
    "\n",
    "col9Types = {}\n",
    "\n",
    "for s in col9:\n",
    "    s = str(s)\n",
    "    types = s.split('|')\n",
    "    for type in types:\n",
    "        if type in col9Types:\n",
    "            col9Types[type] += 1\n",
    "        else:\n",
    "            col9Types[type] = 1\n",
    "\n",
    "# Taking only the top 15 values, excluding 'not_specified' and 'not_found'\n",
    "topN = 17\n",
    "top15Types = dict(sorted(col9Types.items(), key = itemgetter(1), reverse = True)[:topN])\n",
    "top15Types.pop('not_specified');\n",
    "top15Types.pop('not_provided');\n",
    "print(top15Types);\n",
    "\n"
   ]
  },
  {
   "cell_type": "code",
   "execution_count": 9,
   "metadata": {},
   "outputs": [
    {
     "name": "stdout",
     "output_type": "stream",
     "text": [
      "0\n",
      "dict_keys(['Hereditary_cancer-predisposing_syndrome', 'Hereditary_breast_and_ovarian_cancer_syndrome', 'Familial_cancer_of_breast', 'Dilated_cardiomyopathy_1G', 'Limb-girdle_muscular_dystrophy,_type_2J', 'Cardiovascular_phenotype', 'Hypertrophic_cardiomyopathy', 'Ataxia-telangiectasia_syndrome', 'Hereditary_nonpolyposis_colon_cancer', 'Dilated_Cardiomyopathy,_Dominant', 'Familial_hypercholesterolemia', 'Breast-ovarian_cancer,_familial_2', 'Familial_adenomatous_polyposis_1', 'Limb-Girdle_Muscular_Dystrophy,_Recessive', 'Lynch_syndrome'])\n",
      "1\n"
     ]
    }
   ],
   "source": [
    "df = pd.DataFrame(data)\n",
    "\n",
    "for type in top15Types.keys():\n",
    "    df[\"has_\" + type] = 0\n",
    "\n",
    "print(df.loc[4000][\"has_\" + type])\n",
    "print(top15Types.keys())\n",
    "\n",
    "for i in range(len(col9)):\n",
    "    types = str(col9[i]).split('|')\n",
    "    for type in types:\n",
    "        if type in top15Types.keys():\n",
    "            df.at[i, \"has_\" + type] = 1\n",
    "\n",
    "# Shows the 63rd row -- should have a '1' value for 'has_Hereditary_cancer-predisposing_syndrome' and '0' for everything else\n",
    "print(df.loc[62]['has_Hereditary_cancer-predisposing_syndrome'])\n"
   ]
  },
  {
   "cell_type": "code",
   "execution_count": 42,
   "metadata": {},
   "outputs": [
    {
     "name": "stdout",
     "output_type": "stream",
     "text": [
      "-2\n"
     ]
    }
   ],
   "source": [
    "# Last Column - BLOSUM\n",
    "\n",
    "dataBLOSUM62 = [[4, 0, -2, -1, -2, 0, -2, -1, -1, -1, -1, -2, -1, -1, -1, 1, 0, 0, -3, -2], [0, 9, -3, -4, -2, -3, -3, -1, -3, -1, -1, -3, -3, -3, -3, -1, -1, -1, -2, -2], [-2, -3, 6, 2, -3, -1, -1, -3, -1, -4, -3, 1, -1, 0, -2, 0, -1, -3, -4, -3], [-1, -4, 2, 5, -3, -2, 0, -3, 1, -3, -2, 0, -1, 2, 0, 0, -1, -2, -3, -2], [-2, -2, -3, -3, 6, -3, -1, 0, -3, 0, 0, -3, -4, -3, -3, -2, -2, -1, 1, 3], [0, -3, -1, -2, -3, 6, -2, -4, -2, -4, -3, 0, -2, -2, -2, 0, -2, -3, -2, -3], [-2, -3, -1, 0, -1, -2, 8, -3, -1, -3, -2, 1, -2, 0, 0, -1, -2, -3, -2, 2], [-1, -1, -3, -3, 0, -4, -3, 4, -3, 2, 1, -3, -3, -3, -3, -2, -1, 3, -3, -1], [-1, -3, -1, 1, -3, -2, -1, -3, 5, -2, -1, 0, -1, 1, 2, 0, -1, -2, -3, -2], [-1, -1, -4, -3, 0, -4, -3, 2, -2, 4, 2, -3, -3, -2, -2, -2, -1, 1, -2, -1], [-1, -1, -3, -2, 0, -3, -2, 1, -1, 2, 5, -2, -2, 0, -1, -1, -1, 1, -1, -1], [-2, -3, 1, 0, -3, 0, 1, -3, 0, -3, -2, 6, -2, 0, 0, 1, 0, -3, -4, -2], [-1, -3, -1, -1, -4, -2, -2, -3, -1, -3, -2, -2, 7, -1, -2, -1, -1, -2, -4, -3], [-1, -3, 0, 2, -3, -2, 0, -3, 1, -2, 0, 0, -1, 5, 1, 0, -1, -2, -2, -1], [-1, -3, -2, 0, -3, -2, 0, -3, 2, -2, -1, 0, -2, 1, 5, -1, -1, -3, -3, -2], [1, -1, 0, 0, -2, 0, -1, -2, 0, -2, -1, 1, -1, 0, -1, 4, 1, -2, -3, -2], [0, -1, -1, -1, -2, -2, -2, -1, -1, -1, -1, 0, -1, -1, -1, 1, 5, 0, -2, -2], [0, -1, -3, -2, -1, -3, -3, 3, -2, 1, 1, -3, -2, -2, -3, -2, 0, 4, -3, -1], [-3, -2, -4, -3, 1, -2, -2, -3, -3, -2, -1, -4, -4, -2, -3, -3, -2, -3, 11, 2], [-2, -2, -3, -2, 3, -3, 2, -1, -2, -1, -1, -2, -3, -1, -2, -2, -2, -1, 2, 7]]\n",
    "\n",
    "df_BLOSUM62 = pd.DataFrame(dataBLOSUM62, columns=['A', 'C', 'D', 'E', 'F', 'G', 'H', 'I', 'K', 'L', 'M', 'N', 'P', 'Q', 'R', 'S', 'T', 'V', 'W', 'Y'], index = ['A', 'C', 'D', 'E', 'F', 'G', 'H', 'I', 'K', 'L', 'M', 'N', 'P', 'Q', 'R', 'S', 'T', 'V', 'W', 'Y'])\n",
    "\n",
    "print(df_BLOSUM62['A']['Y'])\n",
    "\n"
   ]
  }
 ],
 "metadata": {
  "kernelspec": {
   "display_name": "Python 3.8.10 64-bit (microsoft store)",
   "language": "python",
   "name": "python3"
  },
  "language_info": {
   "codemirror_mode": {
    "name": "ipython",
    "version": 3
   },
   "file_extension": ".py",
   "mimetype": "text/x-python",
   "name": "python",
   "nbconvert_exporter": "python",
   "pygments_lexer": "ipython3",
   "version": "3.8.10"
  },
  "orig_nbformat": 4,
  "vscode": {
   "interpreter": {
    "hash": "311f9256461ac280b82068fc725a24d611a5a83d3e4a2766e048ca4852818f88"
   }
  }
 },
 "nbformat": 4,
 "nbformat_minor": 2
}
