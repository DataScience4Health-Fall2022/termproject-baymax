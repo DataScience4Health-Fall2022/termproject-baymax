{
 "cells": [
  {
   "cell_type": "code",
   "execution_count": 4,
   "metadata": {},
   "outputs": [],
   "source": [
    "# Group 5\n",
    "# Neel Gandhi, Sunishka Jain, Daniel Shen, Julian Wu\n",
    "\n",
    "# Imports\n",
    "import pandas as pd\n",
    "import glob\n",
    "import matplotlib.pyplot as plt\n",
    "import seaborn as sns"
   ]
  },
  {
   "cell_type": "code",
   "execution_count": 5,
   "metadata": {},
   "outputs": [
    {
     "name": "stderr",
     "output_type": "stream",
     "text": [
      "C:\\Users\\julianxywu\\AppData\\Local\\Temp\\ipykernel_34344\\3830987800.py:4: DtypeWarning: Columns (0,38,40) have mixed types. Specify dtype option on import or set low_memory=False.\n",
      "  data = pd.read_csv(file)\n"
     ]
    }
   ],
   "source": [
    "# Import data\n",
    "\n",
    "file = './clinvar_conflicting.csv'\n",
    "data = pd.read_csv(file)"
   ]
  },
  {
   "cell_type": "code",
   "execution_count": 39,
   "metadata": {},
   "outputs": [
    {
     "name": "stdout",
     "output_type": "stream",
     "text": [
      "{'not_specified': 45547, 'Hereditary_cancer-predisposing_syndrome': 18367, 'not_provided': 13020, 'Hereditary_breast_and_ovarian_cancer_syndrome': 2058, 'Familial_cancer_of_breast': 1977, 'Dilated_cardiomyopathy_1G': 1951, 'Limb-girdle_muscular_dystrophy,_type_2J': 1920, 'Cardiovascular_phenotype': 1853, 'Hypertrophic_cardiomyopathy': 1556, 'Ataxia-telangiectasia_syndrome': 1510, 'Hereditary_nonpolyposis_colon_cancer': 1333, 'Dilated_Cardiomyopathy,_Dominant': 1287, 'Familial_hypercholesterolemia': 1082, 'Breast-ovarian_cancer,_familial_2': 1082, 'Familial_adenomatous_polyposis_1': 975, 'Limb-Girdle_Muscular_Dystrophy,_Recessive': 900, 'Lynch_syndrome': 838, 'Thoracic_aortic_aneurysm_and_aortic_dissection': 826, 'Long_QT_syndrome': 751, 'Distal_myopathy_Markesbery-Griggs_type': 724, 'Hereditary_myopathy_with_early_respiratory_failure': 717, 'Myopathy,_early-onset,_with_fatal_cardiomyopathy': 714, 'Ciliary_dyskinesia': 694, 'Neurofibromatosis,_type_1': 683, 'Breast-ovarian_cancer,_familial_1': 651, 'Nonsyndromic_Hearing_Loss,_Recessive': 639, 'Tuberous_sclerosis_2': 585, 'Fanconi_anemia': 554, 'Colorectal_cancer,_susceptibility_to,_12': 534, 'Primary_familial_hypertrophic_cardiomyopathy': 494, 'Nonsyndromic_Hearing_Loss,_Dominant': 473, 'Emery-Dreifuss_muscular_dystrophy': 462, 'Hereditary_diffuse_gastric_cancer': 460, 'Fanconi_anemia,_complementation_group_J': 449, 'Brugada_syndrome': 440, 'Rhabdoid_tumor_predisposition_syndrome_2': 429, 'Joubert_syndrome': 393, 'Tuberous_sclerosis_syndrome': 380, 'Colorectal_cancer_10': 379, 'Bethlem_myopathy_1': 368, 'Primary_dilated_cardiomyopathy': 353, 'Collagen_VI-related_myopathy': 353, 'MYH-associated_polyposis': 326, 'Cardiomyopathy,_ARVC': 318, 'Retinitis_Pigmentosa,_Recessive': 316, 'Li-Fraumeni_syndrome': 315, 'Microcephaly,_normal_intelligence_and_immunodeficiency': 313, 'Catecholaminergic_polymorphic_ventricular_tachycardia': 309, 'Retinitis_pigmentosa-deafness_syndrome': 307, 'Early_infantile_epileptic_encephalopathy': 302, 'Peutz-Jeghers_syndrome': 302, 'DICER1-related_pleuropulmonary_blastoma_cancer_predisposition_syndrome': 301, 'Cerebellar_ataxia': 278, 'Nephronophthisis': 277, 'Marfan_syndrome': 277, 'Malignant_hyperthermia_susceptibility': 275, 'Epidermolysa_bullosa_simplex_and_limb_girdle_muscular_dystrophy': 262, 'Epidermolysis_bullosa_simplex,_Ogna_type': 261, 'Epidermolysis_bullosa_simplex_with_pyloric_atresia': 261, 'Limb-girdle_muscular_dystrophy,_type_2Q': 261, 'Epidermolysis_bullosa_simplex_with_nail_dystrophy': 261, 'Juvenile_polyposis_syndrome': 260, 'Charcot-Marie-Tooth,_Type_2': 248, 'Neoplasm_of_the_breast': 240, 'Duchenne_muscular_dystrophy': 240, 'Ehlers-Danlos_syndrome,_classic_type': 238, 'Primary_Microcephaly,_Recessive': 237, 'Meckel-Gruber_syndrome': 236, 'Congenital_disorder_of_glycosylation': 234, 'Charcot-Marie-Tooth_disease,_type_2': 227, 'Pheochromocytoma': 226, 'Bardet-Biedl_syndrome': 224, 'Gorlin_syndrome': 220, 'Nemaline_myopathy_2': 209, 'Central_core_disease': 203, 'Spastic_paraplegia': 201, 'RYR1-Related_Disorders': 200, 'Tuberous_sclerosis_1': 197, 'Rasopathy': 193, 'Multiple_endocrine_neoplasia,_type_2': 193, 'Fanconi_anemia,_complementation_group_O': 192, 'Charcot-Marie-Tooth_disease,_type_IV': 191, 'Neuromuscular_disease,_congenital,_with_uniform_type_1_fiber': 188, 'Multiminicore_Disease': 185, 'Breast-ovarian_cancer,_familial_4': 181, 'Spinocerebellar_ataxia,_autosomal_recessive_8': 180, 'Spastic_Paraplegia,_Recessive': 179, 'Emery-Dreifuss_muscular_dystrophy_4,_autosomal_dominant': 177, 'Congenital_long_QT_syndrome': 170, 'Arrhythmogenic_right_ventricular_cardiomyopathy,_type_8': 167, 'Ehlers-Danlos_syndrome,_type_7A': 165, 'Cardiomyopathy': 162, 'Congenital_contractural_arachnodactyly': 160, 'Cardiomyopathy_dilated_with_woolly_hair_and_keratoderma': 158, 'Romano-Ward_syndrome': 157, 'Charcot-Marie-Tooth,_Type_4': 156, 'PTEN_hamartoma_tumor_syndrome': 156, 'Renal_cell_carcinoma,_papillary,_1': 155, 'Nemaline_Myopathy,_Recessive': 155, 'Hereditary_cutaneous_melanoma': 154}\n"
     ]
    }
   ],
   "source": [
    "# Column 9 - CLNDN\n",
    "\n",
    "from operator import itemgetter\n",
    "\n",
    "col9 = data[\"CLNDN\"]\n",
    "\n",
    "col9Types = {}\n",
    "\n",
    "for s in col9:\n",
    "    s = str(s)\n",
    "    types = s.split('|')\n",
    "    for type in types:\n",
    "        if type in col9Types:\n",
    "            col9Types[type] += 1\n",
    "        else:\n",
    "            col9Types[type] = 1\n",
    "\n",
    "# Taking only the top 100 values\n",
    "topN = 100\n",
    "top100Types = dict(sorted(col9Types.items(), key = itemgetter(1), reverse = True)[:topN])\n",
    "\n",
    "# print(top100Types)\n",
    "\n"
   ]
  },
  {
   "cell_type": "code",
   "execution_count": 40,
   "metadata": {},
   "outputs": [
    {
     "name": "stderr",
     "output_type": "stream",
     "text": [
      "C:\\Users\\julianxywu\\AppData\\Local\\Temp\\ipykernel_34344\\1694633769.py:4: PerformanceWarning: DataFrame is highly fragmented.  This is usually the result of calling `frame.insert` many times, which has poor performance.  Consider joining all columns at once using pd.concat(axis=1) instead. To get a de-fragmented frame, use `newframe = frame.copy()`\n",
      "  df[\"has_\" + type] = 0\n",
      "C:\\Users\\julianxywu\\AppData\\Local\\Temp\\ipykernel_34344\\1694633769.py:4: PerformanceWarning: DataFrame is highly fragmented.  This is usually the result of calling `frame.insert` many times, which has poor performance.  Consider joining all columns at once using pd.concat(axis=1) instead. To get a de-fragmented frame, use `newframe = frame.copy()`\n",
      "  df[\"has_\" + type] = 0\n",
      "C:\\Users\\julianxywu\\AppData\\Local\\Temp\\ipykernel_34344\\1694633769.py:4: PerformanceWarning: DataFrame is highly fragmented.  This is usually the result of calling `frame.insert` many times, which has poor performance.  Consider joining all columns at once using pd.concat(axis=1) instead. To get a de-fragmented frame, use `newframe = frame.copy()`\n",
      "  df[\"has_\" + type] = 0\n"
     ]
    },
    {
     "name": "stdout",
     "output_type": "stream",
     "text": [
      "0\n",
      "dict_keys(['not_specified', 'Hereditary_cancer-predisposing_syndrome', 'not_provided', 'Hereditary_breast_and_ovarian_cancer_syndrome', 'Familial_cancer_of_breast', 'Dilated_cardiomyopathy_1G', 'Limb-girdle_muscular_dystrophy,_type_2J', 'Cardiovascular_phenotype', 'Hypertrophic_cardiomyopathy', 'Ataxia-telangiectasia_syndrome', 'Hereditary_nonpolyposis_colon_cancer', 'Dilated_Cardiomyopathy,_Dominant', 'Familial_hypercholesterolemia', 'Breast-ovarian_cancer,_familial_2', 'Familial_adenomatous_polyposis_1', 'Limb-Girdle_Muscular_Dystrophy,_Recessive', 'Lynch_syndrome', 'Thoracic_aortic_aneurysm_and_aortic_dissection', 'Long_QT_syndrome', 'Distal_myopathy_Markesbery-Griggs_type', 'Hereditary_myopathy_with_early_respiratory_failure', 'Myopathy,_early-onset,_with_fatal_cardiomyopathy', 'Ciliary_dyskinesia', 'Neurofibromatosis,_type_1', 'Breast-ovarian_cancer,_familial_1', 'Nonsyndromic_Hearing_Loss,_Recessive', 'Tuberous_sclerosis_2', 'Fanconi_anemia', 'Colorectal_cancer,_susceptibility_to,_12', 'Primary_familial_hypertrophic_cardiomyopathy', 'Nonsyndromic_Hearing_Loss,_Dominant', 'Emery-Dreifuss_muscular_dystrophy', 'Hereditary_diffuse_gastric_cancer', 'Fanconi_anemia,_complementation_group_J', 'Brugada_syndrome', 'Rhabdoid_tumor_predisposition_syndrome_2', 'Joubert_syndrome', 'Tuberous_sclerosis_syndrome', 'Colorectal_cancer_10', 'Bethlem_myopathy_1', 'Primary_dilated_cardiomyopathy', 'Collagen_VI-related_myopathy', 'MYH-associated_polyposis', 'Cardiomyopathy,_ARVC', 'Retinitis_Pigmentosa,_Recessive', 'Li-Fraumeni_syndrome', 'Microcephaly,_normal_intelligence_and_immunodeficiency', 'Catecholaminergic_polymorphic_ventricular_tachycardia', 'Retinitis_pigmentosa-deafness_syndrome', 'Early_infantile_epileptic_encephalopathy', 'Peutz-Jeghers_syndrome', 'DICER1-related_pleuropulmonary_blastoma_cancer_predisposition_syndrome', 'Cerebellar_ataxia', 'Nephronophthisis', 'Marfan_syndrome', 'Malignant_hyperthermia_susceptibility', 'Epidermolysa_bullosa_simplex_and_limb_girdle_muscular_dystrophy', 'Epidermolysis_bullosa_simplex,_Ogna_type', 'Epidermolysis_bullosa_simplex_with_pyloric_atresia', 'Limb-girdle_muscular_dystrophy,_type_2Q', 'Epidermolysis_bullosa_simplex_with_nail_dystrophy', 'Juvenile_polyposis_syndrome', 'Charcot-Marie-Tooth,_Type_2', 'Neoplasm_of_the_breast', 'Duchenne_muscular_dystrophy', 'Ehlers-Danlos_syndrome,_classic_type', 'Primary_Microcephaly,_Recessive', 'Meckel-Gruber_syndrome', 'Congenital_disorder_of_glycosylation', 'Charcot-Marie-Tooth_disease,_type_2', 'Pheochromocytoma', 'Bardet-Biedl_syndrome', 'Gorlin_syndrome', 'Nemaline_myopathy_2', 'Central_core_disease', 'Spastic_paraplegia', 'RYR1-Related_Disorders', 'Tuberous_sclerosis_1', 'Rasopathy', 'Multiple_endocrine_neoplasia,_type_2', 'Fanconi_anemia,_complementation_group_O', 'Charcot-Marie-Tooth_disease,_type_IV', 'Neuromuscular_disease,_congenital,_with_uniform_type_1_fiber', 'Multiminicore_Disease', 'Breast-ovarian_cancer,_familial_4', 'Spinocerebellar_ataxia,_autosomal_recessive_8', 'Spastic_Paraplegia,_Recessive', 'Emery-Dreifuss_muscular_dystrophy_4,_autosomal_dominant', 'Congenital_long_QT_syndrome', 'Arrhythmogenic_right_ventricular_cardiomyopathy,_type_8', 'Ehlers-Danlos_syndrome,_type_7A', 'Cardiomyopathy', 'Congenital_contractural_arachnodactyly', 'Cardiomyopathy_dilated_with_woolly_hair_and_keratoderma', 'Romano-Ward_syndrome', 'Charcot-Marie-Tooth,_Type_4', 'PTEN_hamartoma_tumor_syndrome', 'Renal_cell_carcinoma,_papillary,_1', 'Nemaline_Myopathy,_Recessive', 'Hereditary_cutaneous_melanoma'])\n",
      "CHROM                                           1\n",
      "POS                                       1168180\n",
      "REF                                             G\n",
      "ALT                                             C\n",
      "AF_ESP                                     0.0771\n",
      "                                           ...   \n",
      "has_Charcot-Marie-Tooth,_Type_4                 0\n",
      "has_PTEN_hamartoma_tumor_syndrome               0\n",
      "has_Renal_cell_carcinoma,_papillary,_1          0\n",
      "has_Nemaline_Myopathy,_Recessive                0\n",
      "has_Hereditary_cutaneous_melanoma               0\n",
      "Name: 0, Length: 146, dtype: object\n"
     ]
    }
   ],
   "source": [
    "df = pd.DataFrame(data)\n",
    "\n",
    "for type in top100Types.keys():\n",
    "    df[\"has_\" + type] = 0\n",
    "\n",
    "print(df.loc[4000][\"has_\" + type])\n",
    "print(top100Types.keys())\n",
    "\n",
    "for i in range(len(col9)):\n",
    "    types = str(col9[i]).split('|')\n",
    "    for type in types:\n",
    "        if type in top100Types.keys():\n",
    "            df.at[i, \"has_\" + type] = 1\n",
    "\n",
    "# Shows the first row -- should have a '1' value for 'not_specified' and '0' for everything else\n",
    "print(df.loc[0])\n"
   ]
  },
  {
   "cell_type": "code",
   "execution_count": null,
   "metadata": {},
   "outputs": [],
   "source": [
    "# Column 44 & 45 - CADD_PHRED & CADD_RAW\n",
    "\n"
   ]
  }
 ],
 "metadata": {
  "kernelspec": {
   "display_name": "Python 3.8.10 64-bit (microsoft store)",
   "language": "python",
   "name": "python3"
  },
  "language_info": {
   "codemirror_mode": {
    "name": "ipython",
    "version": 3
   },
   "file_extension": ".py",
   "mimetype": "text/x-python",
   "name": "python",
   "nbconvert_exporter": "python",
   "pygments_lexer": "ipython3",
   "version": "3.8.10"
  },
  "orig_nbformat": 4,
  "vscode": {
   "interpreter": {
    "hash": "311f9256461ac280b82068fc725a24d611a5a83d3e4a2766e048ca4852818f88"
   }
  }
 },
 "nbformat": 4,
 "nbformat_minor": 2
}
