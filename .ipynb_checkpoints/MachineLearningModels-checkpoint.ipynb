{
 "cells": [
  {
   "cell_type": "code",
   "execution_count": 18,
   "metadata": {
    "id": "mPcDWzYDotsr"
   },
   "outputs": [],
   "source": [
    "# Group 5\n",
    "# Neel Gandhi, Sunishka Jain, Daniel Shen, Julian Wu\n",
    "\n",
    "# Imports\n",
    "import pandas as pd\n",
    "import glob\n",
    "import matplotlib.pyplot as plt\n",
    "import seaborn as sns\n",
    "from sklearn.datasets import make_classification\n",
    "from sklearn import preprocessing\n",
    "from imblearn.under_sampling import RandomUnderSampler \n",
    "from imblearn.over_sampling import RandomOverSampler "
   ]
  },
  {
   "cell_type": "code",
   "execution_count": 19,
   "metadata": {
    "id": "8tsCjqHjotsw"
   },
   "outputs": [],
   "source": [
    "# Import data\n",
    "# file = './clinvar_conflicting.csv'\n",
    "file = './processedData.csv'\n",
    "data = pd.read_csv(file)"
   ]
  },
  {
   "cell_type": "code",
   "execution_count": 20,
   "metadata": {
    "id": "Ji2C1I6BT-f6"
   },
   "outputs": [],
   "source": [
    "import numpy as np\n",
    "\n",
    "from scipy.stats import uniform, randint\n",
    "from sklearn.metrics import auc, accuracy_score, confusion_matrix, mean_squared_error\n",
    "from sklearn.model_selection import cross_val_score, GridSearchCV, KFold, RandomizedSearchCV, train_test_split\n",
    "from sklearn.metrics import precision_score, recall_score, f1_score, accuracy_score\n",
    "import xgboost as xgb"
   ]
  },
  {
   "cell_type": "code",
   "execution_count": 21,
   "metadata": {
    "id": "lDAs7VsthTwE"
   },
   "outputs": [],
   "source": [
    "def display_scores(scores):\n",
    "    print(\"Scores: {0}\\nMean: {1:.3f}\\nStd: {2:.3f}\".format(scores, np.mean(scores), np.std(scores)))"
   ]
  },
  {
   "cell_type": "code",
   "execution_count": 22,
   "metadata": {
    "id": "J1qMmlQ_hVNn"
   },
   "outputs": [],
   "source": [
    "def report_best_scores(results, n_top=3):\n",
    "    for i in range(1, n_top + 1):\n",
    "        candidates = np.flatnonzero(results['rank_test_score'] == i)\n",
    "        for candidate in candidates:\n",
    "            print(\"Model with rank: {0}\".format(i))\n",
    "            print(\"Mean validation score: {0:.3f} (std: {1:.3f})\".format(\n",
    "                  results['mean_test_score'][candidate],\n",
    "                  results['std_test_score'][candidate]))\n",
    "            print(\"Parameters: {0}\".format(results['params'][candidate]))\n",
    "            print(\"\")"
   ]
  },
  {
   "cell_type": "code",
   "execution_count": 23,
   "metadata": {
    "id": "dOhvza-UPoi1"
   },
   "outputs": [],
   "source": [
    "def confusion_metrics (conf_matrix):\n",
    "# save confusion matrix and slice into four pieces\n",
    "    TP = conf_matrix[1][1]\n",
    "    TN = conf_matrix[0][0]\n",
    "    FP = conf_matrix[0][1]\n",
    "    FN = conf_matrix[1][0]\n",
    "    print('True Positives:', TP)\n",
    "    print('True Negatives:', TN)\n",
    "    print('False Positives:', FP)\n",
    "    print('False Negatives:', FN)\n",
    "    \n",
    "    # calculate accuracy\n",
    "    conf_accuracy = (float (TP+TN) / float(TP + TN + FP + FN))\n",
    "    \n",
    "    # calculate mis-classification\n",
    "    conf_misclassification = 1- conf_accuracy\n",
    "    \n",
    "    # calculate the sensitivity\n",
    "    conf_sensitivity = (TP / float(TP + FN))\n",
    "    # calculate the specificity\n",
    "    conf_specificity = (TN / float(TN + FP))\n",
    "    \n",
    "    # calculate precision\n",
    "    conf_precision = (TN / float(TN + FP))\n",
    "    # calculate f_1 score\n",
    "    conf_f1 = 2 * ((conf_precision * conf_sensitivity) / (conf_precision + conf_sensitivity))\n",
    "    print('-'*50)\n",
    "    print(f'Accuracy: {round(conf_accuracy,2)}') \n",
    "    print(f'Mis-Classification: {round(conf_misclassification,2)}') \n",
    "    print(f'Sensitivity: {round(conf_sensitivity,2)}') \n",
    "    print(f'Specificity: {round(conf_specificity,2)}') \n",
    "    print(f'Precision: {round(conf_precision,2)}')\n",
    "    print(f'f_1 Score: {round(conf_f1,2)}')"
   ]
  },
  {
   "cell_type": "code",
   "execution_count": 24,
   "metadata": {
    "colab": {
     "base_uri": "https://localhost:8080/"
    },
    "id": "WI2VBO_Ri4jw",
    "outputId": "80ef47cd-e68c-4653-b436-4f985ab44c6b"
   },
   "outputs": [],
   "source": [
    "convert_feature = ['cDNA_position','CDS_position','Protein_position']\n",
    "data['cDNA_position'] = data['cDNA_position'].astype(str).str.replace(r'\\D+', '')\n",
    "data['CDS_position'] = data['CDS_position'].astype(str).str.replace(r'\\D+', '')\n",
    "data['Protein_position'] = data['Protein_position'].astype(str).str.replace(r'\\D+', '')\n",
    "for i in range(len(convert_feature)):\n",
    "    data[convert_feature[i]] = data[convert_feature[i]].astype(int)"
   ]
  },
  {
   "cell_type": "code",
   "execution_count": 25,
   "metadata": {
    "id": "PQUP2bYbxhHE"
   },
   "outputs": [],
   "source": [
    "#cancer = data\n",
    "X = data.drop(columns=['CLASS'])\n",
    "y = data['CLASS']"
   ]
  },
  {
   "cell_type": "code",
   "execution_count": 26,
   "metadata": {},
   "outputs": [
    {
     "ename": "AttributeError",
     "evalue": "'RandomUnderSampler' object has no attribute 'sample'",
     "output_type": "error",
     "traceback": [
      "\u001b[0;31m---------------------------------------------------------------------------\u001b[0m",
      "\u001b[0;31mAttributeError\u001b[0m                            Traceback (most recent call last)",
      "\u001b[0;32m<ipython-input-26-2f02e6f37c96>\u001b[0m in \u001b[0;36m<module>\u001b[0;34m\u001b[0m\n\u001b[1;32m      2\u001b[0m \u001b[0mrus\u001b[0m \u001b[0;34m=\u001b[0m \u001b[0mRandomUnderSampler\u001b[0m\u001b[0;34m(\u001b[0m\u001b[0mrandom_state\u001b[0m\u001b[0;34m=\u001b[0m\u001b[0;36m0\u001b[0m\u001b[0;34m)\u001b[0m\u001b[0;34m\u001b[0m\u001b[0;34m\u001b[0m\u001b[0m\n\u001b[1;32m      3\u001b[0m \u001b[0mrus\u001b[0m\u001b[0;34m.\u001b[0m\u001b[0mfit\u001b[0m\u001b[0;34m(\u001b[0m\u001b[0mX\u001b[0m\u001b[0;34m,\u001b[0m \u001b[0my\u001b[0m\u001b[0;34m)\u001b[0m\u001b[0;34m\u001b[0m\u001b[0;34m\u001b[0m\u001b[0m\n\u001b[0;32m----> 4\u001b[0;31m \u001b[0mX_resampled\u001b[0m\u001b[0;34m,\u001b[0m \u001b[0my_resampled\u001b[0m \u001b[0;34m=\u001b[0m \u001b[0mrus\u001b[0m\u001b[0;34m.\u001b[0m\u001b[0msample\u001b[0m\u001b[0;34m(\u001b[0m\u001b[0mX\u001b[0m\u001b[0;34m,\u001b[0m \u001b[0my\u001b[0m\u001b[0;34m)\u001b[0m\u001b[0;34m\u001b[0m\u001b[0;34m\u001b[0m\u001b[0m\n\u001b[0m",
      "\u001b[0;31mAttributeError\u001b[0m: 'RandomUnderSampler' object has no attribute 'sample'"
     ]
    }
   ],
   "source": [
    "#Before we split into training and testing, we need to tinker around with some under-sampling of the\n",
    "#no conflict class\n",
    "rus = RandomUnderSampler(random_state=0)\n",
    "rus.fit(X, y)\n",
    "X_resampled, y_resampled = rus.sample(X, y)"
   ]
  },
  {
   "cell_type": "code",
   "execution_count": 10,
   "metadata": {
    "id": "kXqXnrKuxd_W"
   },
   "outputs": [],
   "source": [
    "from sklearn.model_selection import train_test_split\n",
    "#\n",
    "# Create training and test split\n",
    "#\n",
    "X_train, X_test, y_train, y_test = train_test_split(X, y, test_size=0.30, random_state=1, stratify=y)"
   ]
  },
  {
   "cell_type": "code",
   "execution_count": 11,
   "metadata": {},
   "outputs": [],
   "source": [
    "# >>> from sklearn.datasets import make_classification\n",
    "# >>> from sklearn.linear_model import LogisticRegression\n",
    "# >>> from sklearn.model_selection import train_test_split\n",
    "# >>> from sklearn.pipeline import make_pipeline\n",
    "from sklearn.preprocessing import StandardScaler"
   ]
  },
  {
   "cell_type": "code",
   "execution_count": 12,
   "metadata": {},
   "outputs": [],
   "source": [
    "scaler = preprocessing.StandardScaler().fit(X_train)\n",
    "X_scaled = scaler.transform(X_train)"
   ]
  },
  {
   "cell_type": "code",
   "execution_count": 13,
   "metadata": {},
   "outputs": [
    {
     "name": "stdout",
     "output_type": "stream",
     "text": [
      "[[ 1.65106379e+00 -1.52686124e-01  9.90407715e-01 ... -1.35560934e-01\n",
      "  -1.26789254e-01 -1.17777105e-01]\n",
      " [ 4.09688304e-01 -1.22991956e+00 -4.85102729e-01 ... -1.35560934e-01\n",
      "  -1.26789254e-01 -1.17777105e-01]\n",
      " [-7.14441525e-02  1.07843781e+00 -6.33045850e-01 ... -1.35560934e-01\n",
      "  -1.26789254e-01 -1.17777105e-01]\n",
      " ...\n",
      " [ 4.21017126e-01 -1.22991956e+00 -1.28043954e-01 ... -1.35560934e-01\n",
      "  -1.26789254e-01 -1.17777105e-01]\n",
      " [-1.15495381e+00  1.20436790e-03 -1.00331934e+00 ... -1.35560934e-01\n",
      "  -1.26789254e-01 -1.17777105e-01]\n",
      " [-1.34907187e+00 -1.38381006e+00 -1.20666862e+00 ... -1.35560934e-01\n",
      "  -1.26789254e-01 -1.17777105e-01]]\n"
     ]
    }
   ],
   "source": [
    "print(X_scaled)"
   ]
  },
  {
   "cell_type": "code",
   "execution_count": 14,
   "metadata": {},
   "outputs": [
    {
     "data": {
      "text/plain": [
       "array([ 1.58022848e-17,  1.56022559e-17, -1.06415386e-16,  5.24075775e-17,\n",
       "        7.88113952e-17, -5.36077510e-17, -5.63081415e-17,  4.46064495e-17,\n",
       "       -1.52021981e-17, -7.38106721e-17,  2.80040490e-17,  0.00000000e+00,\n",
       "       -4.00057843e-19,  1.60023137e-18,  3.16045696e-17,  3.72053794e-17,\n",
       "       -5.12074040e-17, -1.32019088e-16,  1.63623658e-16,  5.04072883e-17,\n",
       "       -6.18089368e-17, -1.14616572e-16, -5.00072304e-19,  8.55873749e-16,\n",
       "        5.30076643e-18,  3.11044973e-17,  9.60138824e-18, -7.60109903e-18,\n",
       "        1.00014461e-17,  2.80040490e-18,  0.00000000e+00,  0.00000000e+00,\n",
       "       -6.40092550e-18,  0.00000000e+00, -1.46021113e-17,  4.40063628e-17,\n",
       "       -2.30033260e-17,  0.00000000e+00,  7.98365434e-17, -6.36091971e-17,\n",
       "        3.56051481e-17,  5.02072594e-17, -4.56065942e-17,  3.23046709e-17,\n",
       "        2.79540418e-17, -1.08015618e-17, -2.10030368e-17,  6.40092550e-18,\n",
       "        1.36019667e-17, -2.60037598e-18, -1.96028343e-17,  6.34091682e-17,\n",
       "       -3.00043383e-17,  1.14016485e-17])"
      ]
     },
     "execution_count": 14,
     "metadata": {},
     "output_type": "execute_result"
    }
   ],
   "source": [
    "X_scaled.mean(axis=0)"
   ]
  },
  {
   "cell_type": "code",
   "execution_count": 15,
   "metadata": {},
   "outputs": [
    {
     "data": {
      "text/plain": [
       "array([1., 1., 1., 1., 1., 1., 1., 1., 1., 1., 1., 1., 1., 1., 1., 1., 1.,\n",
       "       1., 1., 1., 1., 1., 1., 1., 1., 1., 1., 1., 1., 1., 0., 0., 1., 0.,\n",
       "       1., 1., 1., 0., 1., 1., 1., 1., 1., 1., 1., 1., 1., 1., 1., 1., 1.,\n",
       "       1., 1., 1.])"
      ]
     },
     "execution_count": 15,
     "metadata": {},
     "output_type": "execute_result"
    }
   ],
   "source": [
    "X_scaled.std(axis=0)"
   ]
  },
  {
   "cell_type": "code",
   "execution_count": 17,
   "metadata": {
    "colab": {
     "base_uri": "https://localhost:8080/",
     "height": 653
    },
    "id": "8upKOue4hXfG",
    "outputId": "1cdc0813-4340-439a-fc13-5f4964d62c91"
   },
   "outputs": [
    {
     "name": "stdout",
     "output_type": "stream",
     "text": [
      "[[10518   910]\n",
      " [ 2556  1241]]\n"
     ]
    },
    {
     "data": {
      "image/png": "[encoded data removed]",
      "text/plain": [
       "<Figure size 360x360 with 1 Axes>"
      ]
     },
     "metadata": {
      "needs_background": "light"
     },
     "output_type": "display_data"
    },
    {
     "name": "stdout",
     "output_type": "stream",
     "text": [
      "Accuracy: 0.772\n",
      "Precision: 0.577\n",
      "Recall: 0.327\n",
      "F1 Score: 0.417\n",
      "True Positives: 1241\n",
      "True Negatives: 10518\n",
      "False Positives: 910\n",
      "False Negatives: 2556\n",
      "--------------------------------------------------\n",
      "Accuracy: 0.77\n",
      "Mis-Classification: 0.23\n",
      "Sensitivity: 0.33\n",
      "Specificity: 0.92\n",
      "Precision: 0.92\n",
      "f_1 Score: 0.48\n"
     ]
    }
   ],
   "source": [
    "xgb_model = xgb.XGBClassifier(objective=\"binary:logistic\", random_state=42)\n",
    "xgb_model.fit(X_train,y_train)\n",
    "\n",
    "y_pred = xgb_model.predict(X_test)\n",
    "\n",
    "print(confusion_matrix(y_test, y_pred))\n",
    "# Calculate the confusion matrix\n",
    "#\n",
    "conf_matrix = confusion_matrix(y_true=y_test, y_pred=y_pred)\n",
    "#\n",
    "# Print the confusion matrix using Matplotlib\n",
    "#\n",
    "fig, ax = plt.subplots(figsize=(5, 5))\n",
    "ax.matshow(conf_matrix, cmap=plt.cm.Oranges, alpha=0.3)\n",
    "for i in range(conf_matrix.shape[0]):\n",
    "    for j in range(conf_matrix.shape[1]):\n",
    "        ax.text(x=j, y=i,s=conf_matrix[i, j], va='center', ha='center', size='xx-large')\n",
    " \n",
    "plt.xlabel('Predictions', fontsize=18)\n",
    "plt.ylabel('Actuals', fontsize=18)\n",
    "plt.title('XG Boost Confusion Matrix', fontsize=18)\n",
    "plt.show()\n",
    "print('Accuracy: %.3f' % accuracy_score(y_test, y_pred))\n",
    "print('Precision: %.3f' % precision_score(y_test, y_pred))\n",
    "print('Recall: %.3f' % recall_score(y_test, y_pred))\n",
    "print('F1 Score: %.3f' % f1_score(y_test, y_pred))\n",
    "\n",
    "\n",
    "confusion_metrics(conf_matrix)"
   ]
  },
  {
   "cell_type": "code",
   "execution_count": null,
   "metadata": {
    "colab": {
     "base_uri": "https://localhost:8080/",
     "height": 708
    },
    "id": "c3LSO5gJr5j-",
    "outputId": "197d640e-07d0-4a32-c04b-94ae27c10b84"
   },
   "outputs": [],
   "source": [
    "from sklearn.linear_model import LogisticRegression\n",
    "lr_model = LogisticRegression(random_state=0, class_weight = 'balanced').fit(X_scaled,y_train)\n",
    "y_pred = lr_model.predict(X_test)\n",
    "\n",
    "print(confusion_matrix(y_test, y_pred))\n",
    "\n",
    "# Calculate the confusion matrix\n",
    "\n",
    "conf_matrix = confusion_matrix(y_true=y_test, y_pred=y_pred)\n",
    "#\n",
    "# Print the confusion matrix using Matplotlib\n",
    "#\n",
    "fig, ax = plt.subplots(figsize=(5, 5))\n",
    "ax.matshow(conf_matrix, cmap=plt.cm.Oranges, alpha=0.3)\n",
    "for i in range(conf_matrix.shape[0]):\n",
    "    for j in range(conf_matrix.shape[1]):\n",
    "        ax.text(x=j, y=i,s=conf_matrix[i, j], va='center', ha='center', size='xx-large')\n",
    " \n",
    "plt.xlabel('Predictions', fontsize=18)\n",
    "plt.ylabel('Actuals', fontsize=18)\n",
    "plt.title('Logistic Regression Confusion Matrix', fontsize=18)\n",
    "plt.show()\n",
    "print('Accuracy: %.3f' % accuracy_score(y_test, y_pred))\n",
    "print('Precision: %.3f' % precision_score(y_test, y_pred))\n",
    "print('Recall: %.3f' % recall_score(y_test, y_pred))\n",
    "print('F1 Score: %.3f' % f1_score(y_test, y_pred))\n",
    "\n",
    "\n",
    "confusion_metrics(conf_matrix)"
   ]
  },
  {
   "cell_type": "code",
   "execution_count": null,
   "metadata": {
    "colab": {
     "base_uri": "https://localhost:8080/",
     "height": 584
    },
    "id": "nkDMwogu2jaK",
    "outputId": "dddc9534-b152-453e-a16f-60c9a5c8dd1b"
   },
   "outputs": [],
   "source": [
    "from sklearn import tree\n",
    "from sklearn.metrics import roc_curve, auc\n",
    "from sklearn.metrics import roc_auc_score\n",
    "dt_model = tree.DecisionTreeClassifier()\n",
    "dt_model = dt_model.fit(X_train,y_train)\n",
    "y_pred = dt_model.predict(X_test)\n",
    "\n",
    "print(confusion_matrix(y_test, y_pred))\n",
    "\n",
    "# Calculate the confusion matrix\n",
    "#\n",
    "conf_matrix = confusion_matrix(y_true=y_test, y_pred=y_pred)\n",
    "#\n",
    "# Print the confusion matrix using Matplotlib\n",
    "#\n",
    "fig, ax = plt.subplots(figsize=(5, 5))\n",
    "ax.matshow(conf_matrix, cmap=plt.cm.Oranges, alpha=0.3)\n",
    "for i in range(conf_matrix.shape[0]):\n",
    "    for j in range(conf_matrix.shape[1]):\n",
    "        ax.text(x=j, y=i,s=conf_matrix[i, j], va='center', ha='center', size='xx-large')\n",
    " \n",
    "plt.xlabel('Predictions', fontsize=18)\n",
    "plt.ylabel('Actuals', fontsize=18)\n",
    "plt.title('Decision Tree Classifier Confusion Matrix', fontsize=18)\n",
    "plt.show()\n",
    "# print('Accuracy: %.3f' % accuracy_score(y_test, y_pred))\n",
    "# print('Precision: %.3f' % precision_score(y_test, y_pred))\n",
    "# print('Recall: %.3f' % recall_score(y_test, y_pred))\n",
    "# print('F1 Score: %.3f' % f1_score(y_test, y_pred))\n",
    "\n",
    "confusion_metrics(conf_matrix)\n"
   ]
  },
  {
   "cell_type": "code",
   "execution_count": null,
   "metadata": {
    "colab": {
     "base_uri": "https://localhost:8080/",
     "height": 653
    },
    "id": "DR9QLFGT4pBs",
    "outputId": "1b746726-46d7-4528-9298-2258808f0bf5"
   },
   "outputs": [],
   "source": [
    "from sklearn.ensemble import RandomForestClassifier\n",
    "from sklearn.datasets import make_classification\n",
    "rf_model = RandomForestClassifier(n_estimators = 1000, random_state = 42)\n",
    "rf_model = rf_model.fit(X_train,y_train)\n",
    "y_pred = rf_model.predict(X_test)\n",
    "\n",
    "print(confusion_matrix(y_test, y_pred))\n",
    "\n",
    "# Calculate the confusion matrix\n",
    "#\n",
    "conf_matrix = confusion_matrix(y_true=y_test, y_pred=y_pred)\n",
    "#\n",
    "# Print the confusion matrix using Matplotlib\n",
    "#\n",
    "fig, ax = plt.subplots(figsize=(5, 5))\n",
    "ax.matshow(conf_matrix, cmap=plt.cm.Oranges, alpha=0.3)\n",
    "for i in range(conf_matrix.shape[0]):\n",
    "    for j in range(conf_matrix.shape[1]):\n",
    "        ax.text(x=j, y=i,s=conf_matrix[i, j], va='center', ha='center', size='xx-large')\n",
    " \n",
    "plt.xlabel('Predictions', fontsize=18)\n",
    "plt.ylabel('Actuals', fontsize=18)\n",
    "plt.title('Random Forest Classifier Confusion Matrix', fontsize=18)\n",
    "plt.show()\n",
    "print('Accuracy: %.3f' % accuracy_score(y_test, y_pred))\n",
    "print('Precision: %.3f' % precision_score(y_test, y_pred))\n",
    "print('Recall: %.3f' % recall_score(y_test, y_pred))\n",
    "print('F1 Score: %.3f' % f1_score(y_test, y_pred))\n",
    "\n",
    "confusion_metrics(conf_matrix)"
   ]
  },
  {
   "cell_type": "code",
   "execution_count": null,
   "metadata": {
    "colab": {
     "base_uri": "https://localhost:8080/",
     "height": 653
    },
    "id": "r1emdbIx3BrF",
    "outputId": "a3246eef-d123-4d77-986b-f6c122318c93"
   },
   "outputs": [],
   "source": [
    "from sklearn.neighbors import KNeighborsClassifier\n",
    "neigh = KNeighborsClassifier(n_neighbors=2)\n",
    "neigh =  neigh.fit(X_train,y_train)\n",
    "y_pred = neigh.predict(X_test)\n",
    "\n",
    "print(confusion_matrix(y_test, y_pred))\n",
    "\n",
    "# Calculate the confusion matrix\n",
    "#\n",
    "conf_matrix = confusion_matrix(y_true=y_test, y_pred=y_pred)\n",
    "#\n",
    "# Print the confusion matrix using Matplotlib\n",
    "#\n",
    "fig, ax = plt.subplots(figsize=(5, 5))\n",
    "ax.matshow(conf_matrix, cmap=plt.cm.Oranges, alpha=0.3)\n",
    "for i in range(conf_matrix.shape[0]):\n",
    "    for j in range(conf_matrix.shape[1]):\n",
    "        ax.text(x=j, y=i,s=conf_matrix[i, j], va='center', ha='center', size='xx-large')\n",
    " \n",
    "plt.xlabel('Predictions', fontsize=18)\n",
    "plt.ylabel('Actuals', fontsize=18)\n",
    "plt.title('KNN Confusion Matrix', fontsize=18)\n",
    "plt.show()\n",
    "print('Accuracy: %.3f' % accuracy_score(y_test, y_pred))\n",
    "print('Precision: %.3f' % precision_score(y_test, y_pred))\n",
    "print('Recall: %.3f' % recall_score(y_test, y_pred))\n",
    "print('F1 Score: %.3f' % f1_score(y_test, y_pred))\n",
    "\n",
    "confusion_metrics(conf_matrix)"
   ]
  },
  {
   "cell_type": "code",
   "execution_count": null,
   "metadata": {
    "colab": {
     "base_uri": "https://localhost:8080/",
     "height": 653
    },
    "id": "gNWtLQTDwJFB",
    "outputId": "750d7fb4-ca59-4ab9-b94a-c5499d9bc3ba"
   },
   "outputs": [],
   "source": [
    "from sklearn.svm import SVC\n",
    "from sklearn.preprocessing import StandardScaler\n",
    "from sklearn.pipeline import make_pipeline\n",
    "svm_model = make_pipeline(StandardScaler(), SVC(gamma='auto'))\n",
    "svm_model.fit(X_train,y_train)\n",
    "y_pred = svm_model.predict(X_test)\n",
    "print(confusion_matrix(y_test, y_pred))\n",
    "# Calculate the confusion matrix\n",
    "#\n",
    "conf_matrix = confusion_matrix(y_true=y_test, y_pred=y_pred)\n",
    "#\n",
    "# Print the confusion matrix using Matplotlib\n",
    "#\n",
    "fig, ax = plt.subplots(figsize=(5, 5))\n",
    "ax.matshow(conf_matrix, cmap=plt.cm.Oranges, alpha=0.3)\n",
    "for i in range(conf_matrix.shape[0]):\n",
    "    for j in range(conf_matrix.shape[1]):\n",
    "        ax.text(x=j, y=i,s=conf_matrix[i, j], va='center', ha='center', size='xx-large')\n",
    " \n",
    "plt.xlabel('Predictions', fontsize=18)\n",
    "plt.ylabel('Actuals', fontsize=18)\n",
    "plt.title('SVM Confusion Matrix', fontsize=18)\n",
    "plt.show()\n",
    "print('Accuracy: %.3f' % accuracy_score(y_test, y_pred))\n",
    "print('Precision: %.3f' % precision_score(y_test, y_pred))\n",
    "print('Recall: %.3f' % recall_score(y_test, y_pred))\n",
    "print('F1 Score: %.3f' % f1_score(y_test, y_pred))\n",
    "\n",
    "confusion_metrics(conf_matrix)"
   ]
  }
 ],
 "metadata": {
  "colab": {
   "collapsed_sections": [],
   "provenance": []
  },
  "kernelspec": {
   "display_name": "Python 3",
   "language": "python",
   "name": "python3"
  },
  "language_info": {
   "codemirror_mode": {
    "name": "ipython",
    "version": 3
   },
   "file_extension": ".py",
   "mimetype": "text/x-python",
   "name": "python",
   "nbconvert_exporter": "python",
   "pygments_lexer": "ipython3",
   "version": "3.8.5"
  },
  "vscode": {
   "interpreter": {
    "hash": "aee8b7b246df8f9039afb4144a1f6fd8d2ca17a180786b69acc140d282b71a49"
   }
  }
 },
 "nbformat": 4,
 "nbformat_minor": 1
}
