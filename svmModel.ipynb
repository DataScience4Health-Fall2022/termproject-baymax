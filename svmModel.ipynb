{
 "cells": [
  {
   "cell_type": "code",
   "execution_count": null,
   "metadata": {},
   "outputs": [],
   "source": [
    "# Using SVM Model to predict conflicting classes\n",
    "# Julian\n",
    "\n"
   ]
  }
 ],
 "metadata": {
  "kernelspec": {
   "display_name": "Python 3.8.10 64-bit (microsoft store)",
   "language": "python",
   "name": "python3"
  },
  "language_info": {
   "name": "python",
   "version": "3.8.10"
  },
  "orig_nbformat": 4,
  "vscode": {
   "interpreter": {
    "hash": "311f9256461ac280b82068fc725a24d611a5a83d3e4a2766e048ca4852818f88"
   }
  }
 },
 "nbformat": 4,
 "nbformat_minor": 2
}
